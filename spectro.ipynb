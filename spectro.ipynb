{
 "cells": [
  {
   "cell_type": "code",
   "execution_count": null,
   "metadata": {},
   "outputs": [],
   "source": [
    "import scipy as sp\n",
    "import numpy as np\n",
    "from scipy import optimize\n",
    "from scipy.spatial import distance"
   ]
  },
  {
   "cell_type": "code",
   "execution_count": 102,
   "metadata": {},
   "outputs": [],
   "source": [
    "def lossfunc(weights, desired, machinespec):\n",
    "    return distance.cityblock(desired, np.dot(weights.T, machinespec)) # sum(abs(x-y)), where y = machine output\n",
    "\n",
    "def find_weights(desired, machinespec):\n",
    "    nchan = machinespec.shape[0]\n",
    "    opt = optimize.minimize(lossfunc, np.ones(nchan), (desired, machinespec),\n",
    "                            options={\"maxiter\": 10000}, bounds=[(0.,None)]*nchan)\n",
    "    return opt.x"
   ]
  },
  {
   "cell_type": "code",
   "execution_count": 5,
   "metadata": {},
   "outputs": [],
   "source": [
    "testmachine = np.eye(4)\n",
    "testmachine[0,1] = 0.2\n",
    "want = np.array([0.3, 0.2, 0.2, 0.4])\n",
    "w = find_weights(want, testmachine)"
   ]
  },
  {
   "cell_type": "code",
   "execution_count": 3,
   "metadata": {},
   "outputs": [
    {
     "data": {
      "text/plain": [
       "array([[1. , 0.2, 0. , 0. ],\n",
       "       [0. , 1. , 0. , 0. ],\n",
       "       [0. , 0. , 1. , 0. ],\n",
       "       [0. , 0. , 0. , 1. ]])"
      ]
     },
     "execution_count": 3,
     "metadata": {},
     "output_type": "execute_result"
    }
   ],
   "source": [
    "testmachine"
   ]
  },
  {
   "cell_type": "code",
   "execution_count": 4,
   "metadata": {},
   "outputs": [
    {
     "data": {
      "text/plain": [
       "array([0.3, 0.2, 0.2, 0.4])"
      ]
     },
     "execution_count": 4,
     "metadata": {},
     "output_type": "execute_result"
    }
   ],
   "source": [
    "want"
   ]
  },
  {
   "cell_type": "code",
   "execution_count": 8,
   "metadata": {},
   "outputs": [
    {
     "data": {
      "text/plain": [
       "array([0.30000013, 0.19999998, 0.2       , 0.39999994])"
      ]
     },
     "execution_count": 8,
     "metadata": {},
     "output_type": "execute_result"
    }
   ],
   "source": [
    "out = np.dot(w.T,  testmachine)\n",
    "out"
   ]
  },
  {
   "cell_type": "markdown",
   "metadata": {},
   "source": [
    "# Actual"
   ]
  },
  {
   "cell_type": "code",
   "execution_count": 75,
   "metadata": {},
   "outputs": [],
   "source": [
    "gt = np.loadtxt(\"data/growtainerspectra.tsv\", skiprows=1)\n",
    "wl, gt = gt[...,0], gt[...,1:].T"
   ]
  },
  {
   "cell_type": "code",
   "execution_count": 76,
   "metadata": {},
   "outputs": [
    {
     "data": {
      "text/plain": [
       "array([[0.0008, 0.0008, 0.0008, ..., 0.    , 0.    , 0.    ],\n",
       "       [0.0005, 0.0005, 0.0006, ..., 0.0497, 0.0425, 0.0349],\n",
       "       [0.0007, 0.0006, 0.0006, ..., 0.    , 0.    , 0.    ],\n",
       "       [0.0014, 0.0014, 0.0014, ..., 0.0011, 0.0011, 0.0011]])"
      ]
     },
     "execution_count": 76,
     "metadata": {},
     "output_type": "execute_result"
    }
   ],
   "source": [
    "gt"
   ]
  },
  {
   "cell_type": "code",
   "execution_count": 77,
   "metadata": {},
   "outputs": [],
   "source": [
    "want = np.ones_like(wl) * 0.3"
   ]
  },
  {
   "cell_type": "code",
   "execution_count": 78,
   "metadata": {},
   "outputs": [],
   "source": [
    "w = find_weights(want, gt)"
   ]
  },
  {
   "cell_type": "code",
   "execution_count": 80,
   "metadata": {},
   "outputs": [
    {
     "data": {
      "text/plain": [
       "array([0.00183627, 0.00181047, 0.0018527 , 0.00191136, 0.00194423,\n",
       "       0.00200289, 0.00224347, 0.00232793, 0.00252629, 0.00280271,\n",
       "       0.00299466, 0.00318662, 0.00349247, 0.00403891, 0.00449916,\n",
       "       0.00502917, 0.00582747, 0.0069984 , 0.00821157, 0.00958086,\n",
       "       0.0114708 , 0.0138549 , 0.01638683, 0.01943939, 0.02330841,\n",
       "       0.02772214, 0.03251148, 0.03813198, 0.04513181, 0.05282416,\n",
       "       0.06125492, 0.071065  , 0.08269631, 0.09495213, 0.10845694,\n",
       "       0.12412171, 0.14172801, 0.16011493, 0.18056558, 0.20467686,\n",
       "       0.23234319, 0.26263784, 0.29581077, 0.33202987, 0.37583747,\n",
       "       0.42479719, 0.47276789, 0.51688134, 0.56929712, 0.62256328,\n",
       "       0.66510096, 0.69269286, 0.71662413, 0.73280905, 0.73615761,\n",
       "       0.72093542, 0.69062901, 0.65382573, 0.61830728, 0.57172976,\n",
       "       0.51555867, 0.4621556 , 0.42061803, 0.38026908, 0.34160167,\n",
       "       0.30777586, 0.28160676, 0.26169909, 0.24487981, 0.22797435,\n",
       "       0.21214409, 0.19923798, 0.18739064, 0.17471871, 0.16177849,\n",
       "       0.14946277, 0.13818767, 0.1281176 , 0.11879406, 0.11042494,\n",
       "       0.10334877, 0.09762441, 0.0934871 , 0.09020035, 0.08759848,\n",
       "       0.08591521, 0.08541101, 0.08556713, 0.08595572, 0.08680437,\n",
       "       0.08832979, 0.09038521, 0.09308157, 0.09630793, 0.10015879,\n",
       "       0.10453029, 0.10964019, 0.11551303, 0.12184613, 0.1286199 ,\n",
       "       0.13615613, 0.14445531, 0.15289419, 0.16121105, 0.16994401,\n",
       "       0.1789875 , 0.18781621, 0.19642888, 0.20517952, 0.21393016,\n",
       "       0.22238671, 0.2306108 , 0.23876514, 0.24670344, 0.25444979,\n",
       "       0.26197666, 0.26928749, 0.27639825, 0.28346611, 0.2904817 ,\n",
       "       0.29732301, 0.30398412, 0.31072329, 0.3175241 , 0.3241769 ,\n",
       "       0.33009322, 0.33572376, 0.3412082 , 0.34599009, 0.34983349,\n",
       "       0.35306052, 0.35551523, 0.3574152 , 0.35874053, 0.35931917,\n",
       "       0.35929097, 0.35907255, 0.35843801, 0.35725877, 0.35572332,\n",
       "       0.35403174, 0.35203795, 0.34958581, 0.34705562, 0.34460157,\n",
       "       0.34170389, 0.33879618, 0.33581213, 0.3326732 , 0.32949843,\n",
       "       0.32616927, 0.32292648, 0.31966553, 0.3163805 , 0.31307732,\n",
       "       0.30991259, 0.3066781 , 0.30352981, 0.30038151, 0.29725901,\n",
       "       0.29415294, 0.29115885, 0.28803635, 0.28475773, 0.2814533 ,\n",
       "       0.27825274, 0.27503575, 0.27194735, 0.26878262, 0.26572002,\n",
       "       0.26265915, 0.25963239, 0.25667538, 0.25368254, 0.25063743,\n",
       "       0.24759232, 0.24462528, 0.24160597, 0.23843884, 0.23534147,\n",
       "       0.23234796, 0.22934633, 0.22657057, 0.22385472, 0.22117279,\n",
       "       0.21860285, 0.21625706, 0.21390296, 0.21146201, 0.20892829,\n",
       "       0.20640221, 0.20390192, 0.2015571 , 0.19912781, 0.19677592,\n",
       "       0.19461168, 0.19242097, 0.1903324 , 0.18833871, 0.18659537,\n",
       "       0.18501387, 0.18357953, 0.18219545, 0.18057948, 0.17896457,\n",
       "       0.17741808, 0.17627499, 0.17504486, 0.17377823, 0.172986  ,\n",
       "       0.17320306, 0.17327335, 0.17377285, 0.17555901, 0.17860498,\n",
       "       0.18187568, 0.18642301, 0.1928987 , 0.20095888, 0.21026043,\n",
       "       0.22118908, 0.23468408, 0.25275614, 0.27265471, 0.29075202,\n",
       "       0.30958633, 0.3322851 , 0.3523049 , 0.3634999 , 0.36954686,\n",
       "       0.37214922, 0.37025369, 0.36140305, 0.34234566, 0.3195046 ,\n",
       "       0.29999932, 0.28106903, 0.25859604, 0.23818421, 0.22524122,\n",
       "       0.2165293 , 0.2106884 , 0.20717543, 0.20650086, 0.20900744,\n",
       "       0.21387022, 0.21999028, 0.22779868, 0.2378026 , 0.24941377,\n",
       "       0.26339691, 0.28341729, 0.30530645, 0.32377459, 0.34164899,\n",
       "       0.36348858, 0.38098756, 0.3863375 , 0.38269147, 0.37308253,\n",
       "       0.35839689, 0.33574512, 0.3       , 0.26066459, 0.22773692,\n",
       "       0.19590817, 0.16178798, 0.13118265, 0.10925161, 0.09329654,\n",
       "       0.08091672, 0.07031753, 0.06236015, 0.0583572 , 0.05580138,\n",
       "       0.05268316, 0.05058235, 0.0499107 , 0.04946178, 0.04887407,\n",
       "       0.04895212, 0.04954263, 0.05025637, 0.05134897, 0.05271171,\n",
       "       0.05452618, 0.05655007, 0.05906671, 0.0617604 , 0.06495445,\n",
       "       0.06824575, 0.07195469, 0.07607952, 0.08047053, 0.08524333,\n",
       "       0.09039794, 0.09593088, 0.10196419, 0.10842152, 0.11522309,\n",
       "       0.12247466, 0.13019077, 0.13845119, 0.1470055 , 0.15589765,\n",
       "       0.16521382, 0.17491006, 0.18490191, 0.19518298, 0.20579548,\n",
       "       0.21679445, 0.22834241, 0.24010792, 0.25233796, 0.26515922,\n",
       "       0.27920514, 0.29413789, 0.30907064, 0.32378585, 0.3400994 ,\n",
       "       0.35645517, 0.37061499, 0.38426165, 0.39837284, 0.40999247,\n",
       "       0.41680428, 0.42239783, 0.4254998 , 0.42311189, 0.41401114,\n",
       "       0.40013669, 0.38233658, 0.36060097, 0.33016599, 0.29516378,\n",
       "       0.26159738, 0.22988271, 0.19398555, 0.15952593, 0.13174331,\n",
       "       0.10810095, 0.08687209, 0.06876185, 0.05475431, 0.04518092,\n",
       "       0.03771901, 0.03033517, 0.02514089, 0.02184696, 0.01880641,\n",
       "       0.01559693])"
      ]
     },
     "execution_count": 80,
     "metadata": {},
     "output_type": "execute_result"
    }
   ],
   "source": [
    "w @ gt"
   ]
  },
  {
   "cell_type": "code",
   "execution_count": 81,
   "metadata": {},
   "outputs": [],
   "source": [
    "from matplotlib import pyplot as plt"
   ]
  },
  {
   "cell_type": "code",
   "execution_count": 84,
   "metadata": {},
   "outputs": [
    {
     "data": {
      "text/plain": [
       "array([0.43957289, 0.42229924, 0.25798066, 0.78062517])"
      ]
     },
     "execution_count": 84,
     "metadata": {},
     "output_type": "execute_result"
    }
   ],
   "source": [
    "w"
   ]
  },
  {
   "cell_type": "code",
   "execution_count": 83,
   "metadata": {},
   "outputs": [
    {
     "data": {
      "image/png": "[encoded data removed]",
      "text/plain": [
       "<matplotlib.figure.Figure at 0x7f0f57fa17f0>"
      ]
     },
     "metadata": {},
     "output_type": "display_data"
    }
   ],
   "source": [
    "plt.plot(w @ gt)\n",
    "plt.show()"
   ]
  },
  {
   "cell_type": "code",
   "execution_count": null,
   "metadata": {},
   "outputs": [],
   "source": []
  },
  {
   "cell_type": "markdown",
   "metadata": {},
   "source": [
    "# Acutal solarcalc"
   ]
  },
  {
   "cell_type": "code",
   "execution_count": 87,
   "metadata": {},
   "outputs": [],
   "source": [
    "import matplotlib\n",
    "import numpy as np\n",
    "import matplotlib.pyplot as plt\n",
    "import datetime\n",
    "from light_sim import LightSim"
   ]
  },
  {
   "cell_type": "code",
   "execution_count": 88,
   "metadata": {},
   "outputs": [
    {
     "name": "stdout",
     "output_type": "stream",
     "text": [
      "Timezone: Australia/Sydney\n",
      "Have data!!! Calulating temp.\n",
      "Calculating daily temp,hum,tao...\n",
      "Calculating spectra...\n"
     ]
    }
   ],
   "source": [
    "start = datetime.datetime(2012,1,1)\n",
    "end = datetime.datetime(2012,1,2)\n",
    "\n",
    "l = LightSim(start, end, latitude=-35.278454, longitude=149.121483, wavelengths=wl)"
   ]
  },
  {
   "cell_type": "code",
   "execution_count": 103,
   "metadata": {},
   "outputs": [
    {
     "data": {
      "text/plain": [
       "array([1380.59549087, 1311.89607616, 1347.21080598, 1377.93438734,\n",
       "       1404.56375086, 1427.59727904, 1447.53477142, 1464.8774112 ,\n",
       "       1480.12773297, 1493.78959195, 1506.36813427, 1518.36976867,\n",
       "       1530.14452615, 1541.42139877, 1551.77149944, 1560.76497896,\n",
       "       1567.97104717, 1572.95799363, 1575.29320777, 1574.54319848,\n",
       "       1570.27361331, 1562.04925713, 1549.69272801, 1534.09700111,\n",
       "       1516.41769562, 1497.8128743 , 1479.44298454, 1462.47081366,\n",
       "       1448.06145868, 1437.38231038, 1431.60305176, 1431.89567094,\n",
       "       1439.05188121, 1452.4566844 , 1471.11719644, 1494.03847369,\n",
       "       1520.22355498, 1548.67350253, 1578.38744213, 1608.36260218,\n",
       "       1637.59435199, 1665.07623905, 1689.90931141, 1712.16832841,\n",
       "       1732.06798595, 1749.82369745, 1765.65151486, 1779.76805867,\n",
       "       1792.39045669, 1803.73629186, 1814.02355895, 1823.47063029,\n",
       "       1832.24004713, 1840.2697929 , 1847.44155575, 1853.6368728 ,\n",
       "       1858.73713225, 1862.62357613, 1865.17730359, 1866.27927473,\n",
       "       1865.81031501, 1863.65112027, 1859.7767484 , 1854.54031286,\n",
       "       1848.38992385, 1841.77425518, 1835.1425322 , 1828.94451137,\n",
       "       1823.63045157, 1819.65107695, 1817.4575314 , 1817.50132462,\n",
       "       1820.05151731, 1824.64609347, 1830.63966769, 1837.38622635,\n",
       "       1844.23919778, 1850.55151904, 1855.67569946, 1858.96388079,\n",
       "       1859.76789417, 1857.43931363, 1851.54919975, 1842.5474678 ,\n",
       "       1831.10415954, 1817.88974988, 1803.57508984, 1788.83135007,\n",
       "       1774.32996507, 1760.74257803, 1748.74098632, 1738.99708758,\n",
       "       1732.02033343, 1727.67023817, 1725.64366641, 1725.63732392,\n",
       "       1727.34777753, 1730.47147687, 1734.70477792, 1739.74396864,\n",
       "       1745.2852963 , 1751.02499679, 1756.67343759, 1761.99784224,\n",
       "       1766.77969068, 1770.80059531, 1773.84228631, 1775.68658272,\n",
       "       1776.11534896, 1774.91043703, 1771.85361426, 1766.72647666,\n",
       "       1759.43533954, 1750.38752801, 1740.11551227, 1729.15203686,\n",
       "       1718.0302099 , 1707.28351912, 1697.4457743 , 1689.05097644,\n",
       "       1682.63311332, 1678.72588178, 1677.69624427, 1679.25051413,\n",
       "       1682.92879032, 1688.27117938, 1694.81806395, 1702.11030829,\n",
       "       1709.6894008 , 1717.09753361, 1723.87761947, 1729.57324603,\n",
       "       1733.83228465, 1736.7349817 , 1738.46593474, 1739.2094428 ,\n",
       "       1739.14954761, 1738.4700727 , 1737.35466027, 1735.98680596,\n",
       "       1734.54989143, 1733.2272148 , 1732.15024351, 1731.307965  ,\n",
       "       1730.64095572, 1730.08982082, 1729.59518721, 1729.09770343,\n",
       "       1728.53804656, 1727.85693583, 1726.9951533 , 1725.89357138,\n",
       "       1724.46441188, 1722.74522299, 1720.75724712, 1718.5217246 ,\n",
       "       1716.05987588, 1713.39288541, 1710.54188732, 1707.52795283,\n",
       "       1704.37207955, 1701.09518234, 1697.71808611, 1694.26152024,\n",
       "       1690.74611476, 1687.1923983 , 1683.62079763, 1680.05163904,\n",
       "       1676.50515127, 1673.00147018, 1669.56064511, 1666.20264681,\n",
       "       1662.73866839, 1659.34553574, 1656.02334493, 1652.77209139,\n",
       "       1649.59163484, 1646.48167662, 1643.44174781, 1640.47120649,\n",
       "       1637.56924248, 1634.73488806, 1631.96703314, 1629.26444396,\n",
       "       1626.62578421, 1624.04963812, 1621.53453491, 1619.07897453,\n",
       "       1616.68145458, 1614.34049866, 1612.05468649, 1609.8226864 ,\n",
       "       1607.643291  , 1605.5154571 , 1603.43835143, 1601.40495789,\n",
       "       1599.42058272, 1597.48511883, 1595.59851692, 1593.76072811,\n",
       "       1591.97165159, 1590.23108587, 1588.53868309, 1586.8939062 ,\n",
       "       1585.29598935, 1583.74390226, 1582.23632006, 1580.77160048,\n",
       "       1579.34777095, 1577.96252859, 1576.61325662, 1575.29706041,\n",
       "       1573.76271156, 1572.26918938, 1570.79739352, 1569.32822179,\n",
       "       1567.8425641 , 1566.32129774, 1564.74528391, 1563.09536558,\n",
       "       1561.35236671, 1559.49709266, 1557.51033204, 1555.37285981,\n",
       "       1553.06544171, 1550.56884007, 1547.86382086, 1544.93116217,\n",
       "       1541.75166394, 1538.30615913, 1534.57552611, 1530.54070246,\n",
       "       1525.99480023, 1521.15560827, 1516.06414571, 1510.76140158,\n",
       "       1505.28831212, 1499.6857442 , 1493.99448466, 1488.25523506,\n",
       "       1482.50861168, 1476.79515037, 1471.15531604, 1465.62951651,\n",
       "       1460.2581208 , 1455.0814816 , 1450.13996216, 1445.47396783,\n",
       "       1441.12398235, 1437.13060967, 1433.53462172, 1430.3770132 ,\n",
       "       1427.69906445, 1425.54241408, 1423.9491433 , 1422.96187468,\n",
       "       1422.62388889, 1422.97926428, 1423.49157655, 1424.54601071,\n",
       "       1426.01955347, 1427.7889801 , 1429.73083358, 1431.72140816,\n",
       "       1433.63673747, 1435.35258701, 1436.74445117, 1437.68755469,\n",
       "       1438.05685872, 1437.13067383, 1434.36219123, 1430.68921396,\n",
       "       1426.25386644, 1421.18580631, 1415.60234732, 1409.60982748,\n",
       "       1403.3054748 , 1396.77932509, 1390.11597737, 1383.39611771,\n",
       "       1376.69782225, 1370.09768955, 1363.67187128, 1357.49708353,\n",
       "       1351.65169926, 1346.21705727, 1341.27919299, 1336.93133728,\n",
       "       1333.27782445, 1330.44070738, 1328.57197351, 1327.8786208 ,\n",
       "       1326.55296677, 1325.00547921, 1324.03787509, 1323.58618057,\n",
       "       1323.5872867 , 1323.97866247, 1324.69809619, 1325.68344503,\n",
       "       1326.87237339, 1328.20205891, 1329.60884179, 1331.02778761,\n",
       "       1332.39212837, 1333.63254207, 1334.67623379, 1335.4458005 ,\n",
       "       1335.85791585, 1335.82198509, 1335.23911911, 1333.31846777,\n",
       "       1322.54780262, 1313.0022174 , 1304.22150047, 1296.13293703,\n",
       "       1288.80193224, 1282.35449555, 1276.94757061, 1272.75633644,\n",
       "       1269.08225632, 1266.54035661, 1264.98039208, 1264.25099628,\n",
       "       1264.22426975, 1264.83849479, 1264.70026917, 1263.38667895,\n",
       "       1261.68562232, 1259.66527821, 1257.3992127 , 1254.96554027,\n",
       "       1252.44645366, 1249.92802872, 1247.50025793, 1245.25728994,\n",
       "       1243.29784156, 1241.72564457, 1240.64938668, 1240.18020999,\n",
       "       1240.42011182, 1241.41919932, 1231.18133942, 1221.16264545,\n",
       "       1213.07721257, 1206.49407327, 1201.2132961 , 1197.13969627,\n",
       "       1194.24863005, 1192.58746084, 1192.30756525])"
      ]
     },
     "execution_count": 103,
     "metadata": {},
     "output_type": "execute_result"
    }
   ],
   "source": [
    "want = l.combined_spline(1.5)[2:-1]\n",
    "want"
   ]
  },
  {
   "cell_type": "code",
   "execution_count": 104,
   "metadata": {},
   "outputs": [],
   "source": [
    "w = find_weights(want, gt)"
   ]
  },
  {
   "cell_type": "code",
   "execution_count": 106,
   "metadata": {},
   "outputs": [],
   "source": [
    "%matplotlib inline"
   ]
  },
  {
   "cell_type": "code",
   "execution_count": 112,
   "metadata": {},
   "outputs": [
    {
     "data": {
      "text/plain": [
       "[<matplotlib.lines.Line2D at 0x7f0f51a50cc0>,\n",
       " <matplotlib.lines.Line2D at 0x7f0f51a50e80>]"
      ]
     },
     "execution_count": 112,
     "metadata": {},
     "output_type": "execute_result"
    },
    {
     "data": {
      "image/png": "[encoded data removed]",
      "text/plain": [
       "<matplotlib.figure.Figure at 0x7f0f51a2ff98>"
      ]
     },
     "metadata": {},
     "output_type": "display_data"
    }
   ],
   "source": [
    "plt.plot(np.stack([want, w @ gt]).T)"
   ]
  },
  {
   "cell_type": "code",
   "execution_count": null,
   "metadata": {},
   "outputs": [],
   "source": []
  }
 ],
 "metadata": {
  "kernelspec": {
   "display_name": "Python 3",
   "language": "python",
   "name": "python3"
  },
  "language_info": {
   "codemirror_mode": {
    "name": "ipython",
    "version": 3
   },
   "file_extension": ".py",
   "mimetype": "text/x-python",
   "name": "python",
   "nbconvert_exporter": "python",
   "pygments_lexer": "ipython3",
   "version": "3.6.5"
  }
 },
 "nbformat": 4,
 "nbformat_minor": 2
}
